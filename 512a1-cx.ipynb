{
 "cells": [
  {
   "cell_type": "markdown",
   "id": "49fe0b0c",
   "metadata": {},
   "source": [
    "# A1: Data Curation Assignment\n",
    "Chang Xu"
   ]
  },
  {
   "cell_type": "markdown",
   "id": "9b6f23c2",
   "metadata": {},
   "source": [
    "The goal of this assignment is to construct, analyze, and publish a dataset of monthly traffic on English Wikipedia from January 1 2008 through August 30 2021. It mainly includes three major steps: Data acquisition, Data processing and Analysis."
   ]
  },
  {
   "cell_type": "markdown",
   "id": "9db81fee",
   "metadata": {},
   "source": [
    "### Import libraries"
   ]
  },
  {
   "cell_type": "code",
   "execution_count": 560,
   "id": "103449dc",
   "metadata": {},
   "outputs": [],
   "source": [
    "import requests\n",
    "import csv\n",
    "import pandas as pd\n",
    "import numpy as np\n",
    "import json\n",
    "import datetime\n",
    "from datetime import datetime, timedelta\n",
    "import matplotlib.pyplot as plt\n",
    "%matplotlib inline"
   ]
  },
  {
   "cell_type": "markdown",
   "id": "8ed0e803",
   "metadata": {},
   "source": [
    "## Step 1: Data acquisition"
   ]
  },
  {
   "cell_type": "markdown",
   "id": "2667c761",
   "metadata": {},
   "source": [
    "Collect data from two different API endpoints, the Legacy Pagecounts API and the Pageviews API."
   ]
  },
  {
   "cell_type": "code",
   "execution_count": 561,
   "id": "f74fcad4",
   "metadata": {},
   "outputs": [],
   "source": [
    "endpoint_legacy = 'https://wikimedia.org/api/rest_v1/metrics/legacy/pagecounts/aggregate/{project}/{access-site}/{granularity}/{start}/{end}'\n",
    "\n",
    "endpoint_pageviews = 'https://wikimedia.org/api/rest_v1/metrics/pageviews/aggregate/{project}/{access}/{agent}/{granularity}/{start}/{end}'"
   ]
  },
  {
   "cell_type": "markdown",
   "id": "14b20cea",
   "metadata": {},
   "source": [
    "Create parameters to call the API"
   ]
  },
  {
   "cell_type": "code",
   "execution_count": 562,
   "id": "333701b6",
   "metadata": {},
   "outputs": [],
   "source": [
    "# parameters for getting aggregated legacy view data \n",
    "params_legacy = {\"project\" : \"en.wikipedia.org\",\n",
    "                 \"access-site\" : \"\",\n",
    "                 \"granularity\" : \"monthly\",\n",
    "                 \"start\" : \"2007120100\",\n",
    "                 \"end\" : \"2016073100\"\n",
    "                    }\n",
    "# December 2007 through July 2016\n",
    "\n",
    "# parameters for getting aggregated current standard pageview data\n",
    "params_pageviews = {\"project\" : \"en.wikipedia.org\",\n",
    "                    \"access\" : \"\",\n",
    "                    \"agent\" : \"user\",\n",
    "                    \"granularity\" : \"monthly\",\n",
    "                    \"start\" : \"2015070100\",\n",
    "                    \"end\" : '2021093000'\n",
    "                        }\n",
    "# July 2015 through last month\n",
    "\n",
    "# Indicate the header for API calls\n",
    "headers = {\n",
    "    'User-Agent': 'https://github.com/maruchang',\n",
    "    'From': 'xuchang@uw.edu'\n",
    "}"
   ]
  },
  {
   "cell_type": "markdown",
   "id": "5f4891f4",
   "metadata": {},
   "source": [
    "Use API calls to get mobile, desktop and both Wikipedia traffic data.</br> \n",
    "Save output as json files with the given format."
   ]
  },
  {
   "cell_type": "code",
   "execution_count": 563,
   "id": "29dca45c",
   "metadata": {},
   "outputs": [],
   "source": [
    "def api_call(endpoint, parameters):\n",
    "    call = requests.get(endpoint.format(**parameters), headers=headers)\n",
    "    response = call.json()\n",
    "    return response"
   ]
  },
  {
   "cell_type": "markdown",
   "id": "09971dc8",
   "metadata": {},
   "source": [
    "Access desktop and mobile traffic data for Legacy Pagecounts API and get the data using API call function and write to json file "
   ]
  },
  {
   "cell_type": "code",
   "execution_count": 564,
   "id": "6cb5ff75",
   "metadata": {},
   "outputs": [],
   "source": [
    "legacy_access = ['desktop-site', 'mobile-site']\n",
    "legacy_output = './pagecounts_{}_200712-201607.json'\n",
    "\n",
    "for access_type in legacy_access:\n",
    "    params = params_legacy\n",
    "    params['access-site'] = access_type\n",
    "    response = api_call(endpoint_legacy, params)\n",
    "    \n",
    "    with open(legacy_output.format(access_type), 'w') as out:\n",
    "        json.dump(response, out)"
   ]
  },
  {
   "cell_type": "markdown",
   "id": "3fc886d2",
   "metadata": {},
   "source": [
    "Access desktop, mobile web, and mobile app traffic data for Pageview API. Get the data using API call function and write to json file"
   ]
  },
  {
   "cell_type": "code",
   "execution_count": 565,
   "id": "c26394e0",
   "metadata": {},
   "outputs": [],
   "source": [
    "pageviews_access = ['desktop', 'mobile-app', 'mobile-web']\n",
    "pageviews_output = './pageviews_{}_201507-202109.json'\n",
    "\n",
    "for access_type in pageviews_access:\n",
    "    params = params_pageviews\n",
    "    params['access'] = access_type\n",
    "    response = api_call(endpoint_pageviews, params)\n",
    "    \n",
    "    with open(pageviews_output.format(access_type), 'w') as out:\n",
    "        json.dump(response, out)"
   ]
  },
  {
   "cell_type": "markdown",
   "id": "d4894666",
   "metadata": {},
   "source": [
    "## Step 2: Data processing"
   ]
  },
  {
   "cell_type": "markdown",
   "id": "9fc678ce",
   "metadata": {},
   "source": [
    "Perform a series of processing steps on these data files in order to prepare them for analysis. At the end of this step, we will have a single CSV-formatted data file that can be used in analysis (Step 3) with no significant additional processing."
   ]
  },
  {
   "cell_type": "markdown",
   "id": "fcae8f1b",
   "metadata": {},
   "source": [
    "Convert all saved json files to dataframes and get the raw data from 'items' column. For legacy pagecount data:"
   ]
  },
  {
   "cell_type": "code",
   "execution_count": 566,
   "id": "06211d76",
   "metadata": {},
   "outputs": [],
   "source": [
    "# Read json file into data frmae\n",
    "df_pagecounts_desktop = pd.read_json('pagecounts_desktop-site_200712-201607.json')\n",
    "df_pagecounts_mobile = pd.read_json('pagecounts_mobile-site_200712-201607.json')"
   ]
  },
  {
   "cell_type": "code",
   "execution_count": 567,
   "id": "680dd592",
   "metadata": {},
   "outputs": [],
   "source": [
    "# get only \"items\" and nomalize the data\n",
    "df_pagecounts_desktop = pd.json_normalize(df_pagecounts_desktop[\"items\"])\n",
    "df_pagecounts_mobile = pd.json_normalize(df_pagecounts_mobile[\"items\"])"
   ]
  },
  {
   "cell_type": "markdown",
   "id": "f38cbbcf",
   "metadata": {},
   "source": [
    "Similarly, for pageview data"
   ]
  },
  {
   "cell_type": "code",
   "execution_count": 568,
   "id": "fe7c9ad7",
   "metadata": {},
   "outputs": [],
   "source": [
    "# Pageviews data\n",
    "df_pageviews_desktop = pd.read_json('pageviews_desktop_201507-202109.json')\n",
    "df_pageviews_mobile_app = pd.read_json('pageviews_mobile-app_201507-202109.json')\n",
    "df_pageviews_mobile_web = pd.read_json('pageviews_mobile-web_201507-202109.json')"
   ]
  },
  {
   "cell_type": "code",
   "execution_count": 569,
   "id": "e86c66d0",
   "metadata": {},
   "outputs": [],
   "source": [
    "# get only \"items\" and nomalize the data\n",
    "df_pageviews_desktop = pd.json_normalize(df_pageviews_desktop[\"items\"])\n",
    "df_pageviews_mobile_app = pd.json_normalize(df_pageviews_mobile_app[\"items\"])\n",
    "df_pageviews_mobile_web = pd.json_normalize(df_pageviews_mobile_web[\"items\"])"
   ]
  },
  {
   "cell_type": "markdown",
   "id": "b12c6832",
   "metadata": {},
   "source": [
    "Drop unwanted columns and rename the columns"
   ]
  },
  {
   "cell_type": "code",
   "execution_count": 570,
   "id": "0bc157b5",
   "metadata": {},
   "outputs": [],
   "source": [
    "# Pagecounts data\n",
    "# rename only useful columns\n",
    "df_pagecounts_desktop = df_pagecounts_desktop[[\"timestamp\", \"count\"]]\n",
    "df_pagecounts_mobile = df_pagecounts_mobile[[\"timestamp\", \"count\"]]"
   ]
  },
  {
   "cell_type": "code",
   "execution_count": 571,
   "id": "f88c98b3",
   "metadata": {},
   "outputs": [],
   "source": [
    "# rename columns\n",
    "df_pagecounts_desktop = df_pagecounts_desktop.rename(columns = {'count': 'pagecount_desktop_views'})\n",
    "df_pagecounts_mobile = df_pagecounts_mobile.rename(columns = {'count': 'pagecount_mobile_views'})"
   ]
  },
  {
   "cell_type": "markdown",
   "id": "3e3ebbde",
   "metadata": {},
   "source": [
    "For data collected from the Pageviews API, combine the monthly values for mobile-app and mobile-web to create a total mobile traffic count for each month. First, get the data seperately."
   ]
  },
  {
   "cell_type": "code",
   "execution_count": 572,
   "id": "6409fff2",
   "metadata": {},
   "outputs": [],
   "source": [
    "# Pageviews data\n",
    "# remain only the useful columns\n",
    "df_pageviews_desktop = df_pageviews_desktop[[\"timestamp\", \"views\"]]\n",
    "df_pageviews_mobile_app = df_pageviews_mobile_app[[\"timestamp\", \"views\"]]\n",
    "df_pageviews_mobile_web = df_pageviews_mobile_web[[\"timestamp\", \"views\"]]"
   ]
  },
  {
   "cell_type": "code",
   "execution_count": 573,
   "id": "4728cbbc",
   "metadata": {},
   "outputs": [],
   "source": [
    "# rename the columns\n",
    "df_pageviews_desktop = df_pageviews_desktop.rename(columns = {'views': 'pageview_desktop_views'})\n",
    "df_pageviews_mobile_app = df_pageviews_mobile_app.rename(columns = {'views': 'pageview_mobile_app_views'})\n",
    "df_pageviews_mobile_web = df_pageviews_mobile_web.rename(columns = {'views': 'pageview_mobile_web_views'})"
   ]
  },
  {
   "cell_type": "markdown",
   "id": "c9d6d60b",
   "metadata": {},
   "source": [
    "Merge mobile and desktop dataframes based on timestamp"
   ]
  },
  {
   "cell_type": "code",
   "execution_count": 574,
   "id": "f53072fd",
   "metadata": {},
   "outputs": [],
   "source": [
    "df_combined = df_pagecounts_desktop.merge(df_pagecounts_mobile, how='outer', on='timestamp').merge(df_pageviews_desktop, how='outer', on='timestamp').merge(df_pageviews_mobile_app, how='outer', on='timestamp').merge(df_pageviews_mobile_web, how='outer', on='timestamp')"
   ]
  },
  {
   "cell_type": "markdown",
   "id": "5b742a35",
   "metadata": {},
   "source": [
    "For months with 0 pageviews for a given access method (e.g. desktop-site, mobile-app), that value for that (column, month) should be listed as 0"
   ]
  },
  {
   "cell_type": "code",
   "execution_count": 575,
   "id": "7e372b1c",
   "metadata": {},
   "outputs": [],
   "source": [
    "res = df_combined.fillna(0)"
   ]
  },
  {
   "cell_type": "markdown",
   "id": "984a7463",
   "metadata": {},
   "source": [
    "Add up desktop view and mobile view for all view data."
   ]
  },
  {
   "cell_type": "code",
   "execution_count": 576,
   "id": "445a4fd9",
   "metadata": {},
   "outputs": [],
   "source": [
    "# legacy pageview views\n",
    "res['pageview_mobile_views'] = res['pageview_mobile_app_views'] + res['pageview_mobile_web_views']\n",
    "res['pageview_all_views'] = res['pageview_desktop_views'] + res['pageview_mobile_views']"
   ]
  },
  {
   "cell_type": "markdown",
   "id": "48677fe6",
   "metadata": {},
   "source": [
    "Similarly, get all views for pagecount views."
   ]
  },
  {
   "cell_type": "code",
   "execution_count": 577,
   "id": "1714867d",
   "metadata": {},
   "outputs": [],
   "source": [
    "# pagecount views\n",
    "res['pagecount_all_views'] = res['pagecount_desktop_views'] + res['pagecount_mobile_views']"
   ]
  },
  {
   "cell_type": "markdown",
   "id": "98912140",
   "metadata": {},
   "source": [
    "For all data, separate the value of timestamp into four-digit year (YYYY) and two-digit month (MM) and discard values for day and hour (DDHH)."
   ]
  },
  {
   "cell_type": "code",
   "execution_count": 578,
   "id": "a1f6b30f",
   "metadata": {},
   "outputs": [],
   "source": [
    "res['year'] = res['timestamp'].str[:4]\n",
    "res['month'] = res['timestamp'].str[4:6]"
   ]
  },
  {
   "cell_type": "markdown",
   "id": "1d0fb65f",
   "metadata": {},
   "source": [
    "Reorder the columns"
   ]
  },
  {
   "cell_type": "code",
   "execution_count": 579,
   "id": "1498addd",
   "metadata": {},
   "outputs": [],
   "source": [
    "res = res[['year', 'month', 'pagecount_all_views', 'pagecount_desktop_views', 'pagecount_mobile_views', 'pageview_all_views', 'pageview_desktop_views', 'pageview_mobile_views']]"
   ]
  },
  {
   "cell_type": "markdown",
   "id": "10b0f6f2",
   "metadata": {},
   "source": [
    "Writing results to a csv file"
   ]
  },
  {
   "cell_type": "code",
   "execution_count": 580,
   "id": "53b420ee",
   "metadata": {},
   "outputs": [],
   "source": [
    "res.to_csv('en-wikipedia_traffic_200712-202108.csv', index = False)"
   ]
  },
  {
   "cell_type": "markdown",
   "id": "13ba10ff",
   "metadata": {},
   "source": [
    "## Step 3: Analysis"
   ]
  },
  {
   "cell_type": "markdown",
   "id": "a90fc53d",
   "metadata": {},
   "source": [
    "Read data from the csv we just generated from last step"
   ]
  },
  {
   "cell_type": "code",
   "execution_count": 581,
   "id": "40f4d293",
   "metadata": {},
   "outputs": [],
   "source": [
    "data = pd.read_csv('./en-wikipedia_traffic_200712-202108.csv')"
   ]
  },
  {
   "cell_type": "markdown",
   "id": "4baf1035",
   "metadata": {},
   "source": [
    "Get the \"date\" field for drawing, which is the combination of month and year"
   ]
  },
  {
   "cell_type": "code",
   "execution_count": 582,
   "id": "00c96260",
   "metadata": {},
   "outputs": [],
   "source": [
    "import datetime\n",
    "\n",
    "date = []\n",
    "for i in range(len(data['year'])):\n",
    "    res = pd.to_datetime(datetime.date(year=int(data['year'][i]), month=int(data['month'][i]), day=1))\n",
    "    date.append(res)\n",
    "\n",
    "data['date'] = date\n",
    "data = data.set_index('date')"
   ]
  },
  {
   "cell_type": "markdown",
   "id": "cd0df63f",
   "metadata": {},
   "source": [
    "Calaulate the data we want to plot: mobile, desktop and mobile + desktop traffic"
   ]
  },
  {
   "cell_type": "code",
   "execution_count": 583,
   "id": "fcceb1aa",
   "metadata": {},
   "outputs": [],
   "source": [
    "data['mobile_traffic'] = data['pageview_mobile_views'] + data['pagecount_mobile_views']\n",
    "data['desktop_traffic'] = data['pageview_desktop_views'] + data['pagecount_desktop_views']\n",
    "data['all_traffic'] = data['pageview_all_views'] + data['pagecount_all_views']"
   ]
  },
  {
   "cell_type": "markdown",
   "id": "e5eba30c",
   "metadata": {},
   "source": [
    "Change value 0s to NaNs to avoid noise"
   ]
  },
  {
   "cell_type": "code",
   "execution_count": 584,
   "id": "23946abc",
   "metadata": {},
   "outputs": [],
   "source": [
    "data = data.replace(to_replace = 0, value = np.nan)"
   ]
  },
  {
   "cell_type": "markdown",
   "id": "88f3dbed",
   "metadata": {},
   "source": [
    "Plot the visualization"
   ]
  },
  {
   "cell_type": "code",
   "execution_count": 585,
   "id": "4e6a8246",
   "metadata": {},
   "outputs": [
    {
     "data": {
      "text/plain": [
       "<function matplotlib.pyplot.show(close=None, block=None)>"
      ]
     },
     "execution_count": 585,
     "metadata": {},
     "output_type": "execute_result"
    },
    {
     "data": {
      "image/png": "[encoded data removed]",
      "text/plain": [
       "<Figure size 1440x504 with 1 Axes>"
      ]
     },
     "metadata": {
      "needs_background": "light"
     },
     "output_type": "display_data"
    }
   ],
   "source": [
    "plt.figure(figsize=(20,7))\n",
    "plt.grid()\n",
    "\n",
    "plt.plot(data['mobile_traffic'], label = \"Mobile Traffic\")\n",
    "plt.plot(data['desktop_traffic'], label = \"Desktop Traffic\")\n",
    "plt.plot(data['all_traffic'], label = \"Mobile + Desktop Traffic\")\n",
    "\n",
    "plt.legend()\n",
    "plt.xlabel('Date')\n",
    "plt.ylabel('Pageviews (in millions)')\n",
    "plt.title('Page Views on English Wikipedia (x1,000,000)')\n",
    "\n",
    "plt.savefig('./wikipedia_traffic_200712-202109.png')\n",
    "plt.show"
   ]
  },
  {
   "cell_type": "code",
   "execution_count": null,
   "id": "3198e52c",
   "metadata": {},
   "outputs": [],
   "source": []
  },
  {
   "cell_type": "code",
   "execution_count": null,
   "id": "3527643e",
   "metadata": {},
   "outputs": [],
   "source": []
  }
 ],
 "metadata": {
  "kernelspec": {
   "display_name": "Python 3",
   "language": "python",
   "name": "python3"
  },
  "language_info": {
   "codemirror_mode": {
    "name": "ipython",
    "version": 3
   },
   "file_extension": ".py",
   "mimetype": "text/x-python",
   "name": "python",
   "nbconvert_exporter": "python",
   "pygments_lexer": "ipython3",
   "version": "3.8.8"
  }
 },
 "nbformat": 4,
 "nbformat_minor": 5
}
